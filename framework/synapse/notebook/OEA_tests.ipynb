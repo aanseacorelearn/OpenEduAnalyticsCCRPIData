{
  "cells": [
    {
      "cell_type": "markdown",
      "metadata": {
        "nteract": {
          "transient": {
            "deleting": false
          }
        }
      },
      "source": [
        "# Tests for the OEA framework"
      ]
    },
    {
      "cell_type": "code",
      "execution_count": null,
      "metadata": {},
      "outputs": [],
      "source": [
        "%run OEA_py"
      ]
    },
    {
      "cell_type": "code",
      "execution_count": null,
      "metadata": {
        "jupyter": {
          "outputs_hidden": false,
          "source_hidden": false
        },
        "nteract": {
          "transient": {
            "deleting": false
          }
        }
      },
      "outputs": [],
      "source": [
        "oea = OEA()\n",
        "oea.set_workspace('sandbox1')"
      ]
    },
    {
      "cell_type": "code",
      "execution_count": null,
      "metadata": {
        "jupyter": {
          "outputs_hidden": false,
          "source_hidden": false
        },
        "nteract": {
          "transient": {
            "deleting": false
          }
        }
      },
      "outputs": [],
      "source": [
        "def reset_additive_data_tests():\n",
        "    oea.rm_if_exists('stage1/Transactional/contoso_sis/v0.1/readinessIndictorsBySubgroup')\n",
        "    oea.rm_if_exists('stage2/Ingested/contoso_sis/v0.1/readinessIndictorsBySubgroup')\n",
        "\n",
        "def land_readinessIndictorsBySubgroup_2021(expected_record_count):\n",
        "    data_str = requests.get('https://raw.githubusercontent.com/aanseacorelearn/OpenEduAnalyticsCCRPIdata/framework/test_data/contoso_sis/2021/readinessIndictorsBySubgroup/part1.csv').text\n",
        "    sink_path = oea.land(data_str, 'contoso_sis/v0.1/readinessIndictorsBySubgroup', 'readinessIndictorsBySubgroup.csv', batch_data_type=oea.ADDITIVE_BATCH_DATA)\n",
        "    sink_df = oea.load_csv(sink_path)\n",
        "    assert sink_df.count() == expected_record_count, f'Expected {expected_record_count} records in landed data, but found {sink_df.count()}'\n",
        "\n",
        "def land_readinessIndictorsBySubgroup_2022(expected_record_count):\n",
        "    data_str = requests.get('https://raw.githubusercontent.com/aanseacorelearn/OpenEduAnalyticsCCRPIdata/framework/test_data/contoso_sis/2022/readinessIndictorsBySubgroup/part1.csv').text\n",
        "    sink_path = oea.land(data_str, 'contoso_sis/v0.1/readinessIndictorsBySubgroup', 'readinessIndictorsBySubgroup.csv', batch_data_type=oea.ADDITIVE_BATCH_DATA)\n",
        "    sink_df = oea.load_csv(sink_path)\n",
        "    assert sink_df.count() == expected_record_count, f'Expected {expected_record_count} records in landed data, but found {sink_df.count()}'\n",
        "\n",
        "def ingest_readinessIndictorsBySubgroup(expected_record_count):\n",
        "    oea.ingest('contoso_sis/v0.1/readinessIndictorsBySubgroup')\n",
        "    df = oea.load('stage2/Ingested/contoso_sis/v0.1/readinessIndictorsBySubgroup')\n",
        "    assert df.count() == expected_record_count, f'Expected {expected_record_count} records in landed data, but found {df.count()}'\n",
        "\n",
        "reset_additive_data_tests()\n",
        "# test1 - Land the first batch of studentattendance data\n",
        "land_readinessIndictorsBySubgroup_2021(1464)\n",
        "# test2 - Ingest the data from stage1 into stage2\n",
        "ingest_readinessIndictorsBySubgroup(1464)\n",
        "# test3 - run the same ingestion a second time and verify that it doesn't change what was ingested (ingestion is idempotent via use of _checkpoints)\n",
        "ingest_readinessIndictorsBySubgroup(1464)\n",
        "# test4 - Land the second batch of studentattendance data\n",
        "land_readinessIndictorsBySubgroup_2022(2928)\n",
        "# test5 - Ingest the data from stage1 into stage2\n",
        "ingest_readinessIndictorsBySubgroup(4392)\n",
        "\n"
      ]
    },
    {
      "cell_type": "code",
      "execution_count": null,
      "metadata": {
        "collapsed": false,
        "jupyter": {
          "outputs_hidden": false,
          "source_hidden": false
        },
        "nteract": {
          "transient": {
            "deleting": false
          }
        }
      },
      "outputs": [],
      "source": [
        "def reset_delta_data_tests():\n",
        "    oea.rm_if_exists('stage1/Transactional/contoso_sis/v0.1/contentMasteryBySubgroup')\n",
        "    oea.rm_if_exists('stage2/Ingested/contoso_sis/v0.1/contentMasteryBySubgroup')\n",
        "\n",
        "def land_contentMasteryBySubgroup_2021(expected_record_count):\n",
        "    data_str = requests.get('https://raw.githubusercontent.com/aanseacorelearn/OpenEduAnalyticsCCRPIdata/gene/v0.7dev/framework/test_data/contoso_sis/2021/contentMasteryBySubgroup/part1.csv').text\n",
        "    sink_path = oea.land(data_str, 'contoso_sis/v0.1/contentMasteryBySubgroup', 'contentMasteryBySubgroup.csv', batch_data_type=oea.DELTA_BATCH_DATA)\n",
        "    sink_df = oea.load_csv(sink_path)\n",
        "    assert sink_df.count() == expected_record_count, f'Expected {expected_record_count} records in landed data, but found {sink_df.count()}'\n",
        "\n",
        "def land_contentMasteryBySubgroup_2022(expected_record_count):\n",
        "    data_str = requests.get('https://raw.githubusercontent.com/aanseacorelearn/OpenEduAnalyticsCCRPIdata/gene/v0.7dev/framework/test_data/contoso_sis/2022/contentMasteryBySubgroup/part1.csv').text\n",
        "    sink_path = oea.land(data_str, 'contoso_sis/v0.1/contentMasteryBySubgroup', 'contentMasteryBySubgroup.csv', batch_data_type=oea.DELTA_BATCH_DATA)\n",
        "    sink_df = oea.load_csv(sink_path)\n",
        "    assert sink_df.count() == expected_record_count, f'Expected {expected_record_count} records in landed data, but found {sink_df.count()}'\n",
        "\n",
        "def ingest_contentMasteryBySubgroup(expected_record_count):\n",
        "    oea.ingest('contoso_sis/v0.1/contentMasteryBySubgroup', 'id')\n",
        "    df = oea.load('stage2/Ingested/contoso_sis/v0.1/contentMasteryBySubgroup')\n",
        "    assert df.count() == expected_record_count, f'Expected {expected_record_count} records in landed data, but found {df.count()}'\n",
        "\n",
        "reset_delta_data_tests()\n",
        "# test1 - Land the first batch of studentattendance data\n",
        "land_contentMasteryBySubgroup_2021(2)\n",
        "# test2 - Ingest the data from stage1 into stage2\n",
        "ingest_contentMasteryBySubgroup(2)\n",
        "# test3 - run the same ingestion a second time and verify that it doesn't change what was ingested (ingestion is idempotent via use of _checkpoints)\n",
        "ingest_contentMasteryBySubgroup(2)\n",
        "# test4 - Land the second batch of studentattendance data\n",
        "land_contentMasteryBySubgroup_2022(2)\n",
        "# test5 - Ingest the data from stage1 into stage2\n",
        "ingest_contentMasteryBySubgroup(3)"
      ]
    },
    {
      "cell_type": "code",
      "execution_count": null,
      "metadata": {
        "collapsed": false,
        "jupyter": {
          "outputs_hidden": false,
          "source_hidden": false
        },
        "nteract": {
          "transient": {
            "deleting": false
          }
        }
      },
      "outputs": [],
      "source": [
        "def reset_snapshot_data_tests():\n",
        "    oea.rm_if_exists('stage1/Transactional/contoso_sis/v0.1/studentsectionmark')\n",
        "    oea.rm_if_exists('stage2/Ingested/contoso_sis/v0.1/studentsectionmark')\n",
        "\n",
        "def land_progressTowardsEnglishLanguageProficiency_2021(expected_record_count):\n",
        "    data_str = requests.get('https://raw.githubusercontent.com/aanseacorelearn/OpenEduAnalyticsCCRPIdata/gene/v0.7dev/framework/test_data/contoso_sis/2021/progressTowardsEngLangProfibySubgr/part1.csv').text\n",
        "    sink_path = oea.land(data_str, 'contoso_sis/v0.1/progressTowardsEngLangProfibySubgr', 'progressTowardsEngLangProfibySubgr.csv', batch_data_type=oea.DELTA_BATCH_DATA)\n",
        "    sink_df = oea.load_csv(sink_path)\n",
        "    assert sink_df.count() == expected_record_count, f'Expected {expected_record_count} records in landed data, but found {sink_df.count()}'\n",
        "\n",
        "def land_progressTowardsEnglishLanguageProficiency_2022(expected_record_count):\n",
        "    data_str = requests.get('https://raw.githubusercontent.com/aanseacorelearn/OpenEduAnalyticsCCRPIdata/gene/v0.7dev/framework/test_data/contoso_sis/2022/progressTowardsEngLangProfibySubgr/part1.csv').text\n",
        "    sink_path = oea.land(data_str, 'contoso_sis/v0.1/progressTowardsEngLangProfibySubgr', 'progressTowardsEngLangProfibySubgr.csv', batch_data_type=oea.DELTA_BATCH_DATA)\n",
        "    sink_df = oea.load_csv(sink_path)\n",
        "    assert sink_df.count() == expected_record_count, f'Expected {expected_record_count} records in landed data, but found {sink_df.count()}'\n",
        "\n",
        "def ingest_progressTowardsEnglishLanguageProficiency(expected_record_count):\n",
        "    oea.ingest('contoso_sis/v0.1/progressTowardsEnglishLanguageProficiency')\n",
        "    df = oea.load('stage2/Ingested/contoso_sis/v0.1/progressTowardsEngLangProfibySubgr')\n",
        "    assert df.count() == expected_record_count, f'Expected {expected_record_count} records in landed data, but found {df.count()}'\n",
        "\n",
        "reset_snapshot_data_tests()\n",
        "# test1 - Land the first batch of studentattendance data\n",
        "land_progressTowardsEnglishLanguageProficiency_2021(12)\n",
        "# test2 - Ingest the data from stage1 into stage2\n",
        "ingest_progressTowardsEnglishLanguageProficiency(12)\n",
        "# test3 - run the same ingestion a second time and verify that it doesn't change what was ingested (ingestion is idempotent via use of _checkpoints)\n",
        "ingest_progressTowardsEnglishLanguageProficiency(12)\n",
        "# test4 - Land the second batch of studentattendance data\n",
        "land_progressTowardsEnglishLanguageProficiency_2022(12)\n",
        "# test5 - Ingest the data from stage1 into stage2\n",
        "ingest_progressTowardsEnglishLanguageProficiency(12)"
      ]
    },
    {
      "cell_type": "code",
      "execution_count": null,
      "metadata": {
        "collapsed": false,
        "jupyter": {
          "outputs_hidden": false,
          "source_hidden": false
        },
        "nteract": {
          "transient": {
            "deleting": false
          }
        }
      },
      "outputs": [],
      "source": [
        "def refine_contoso_sis(df_source):\n",
        "    metadata = oea.get_metadata_from_url('https://raw.githubusercontent.com/aanseacorelearn/OpenEduAnalyticsCCRPIdata/gene/v0.7dev/modules/module_catalog/Student_and_School_Data_Systems/metadata.csv')\n",
        "    #oea.upsert(df_source, 'stage2/Refined/contoso_sis/v0.1/general/studentattendance')\n",
        "    df_pseudo, df_lookup = oea.pseudonymize(df_source, metadata['readinessIndicatorsbySubgroup'])\n",
        "    oea.upsert(df_pseudo, 'stage2/Refined/contoso_sis/v0.1/general/readinessIndicatorsbySubgroup')\n",
        "    oea.upsert(df_lookup, 'stage2/Refined/contoso_sis/v0.1/sensitive/readinessIndicatorsbySubgroup')\n",
        "\n",
        "oea.process('stage2/Ingested/contoso_sis/v0.1/readinessIndicatorsbySubgroup', refine_contoso_sis)\n",
        "\n",
        "# query a sample of the data refined into stage2/refined\n",
        "oea.display('stage2/Refined/contoso_sis/v0.1/general/readinessIndicatorsbySubgroup')\n",
        "oea.display('stage2/Refined/contoso_sis/v0.1/sensitive/readinessIndicatorsbySubgroup')"
      ]
    }
  ],
  "metadata": {
    "kernel_info": {
      "name": "synapse_pyspark"
    },
    "kernelspec": {
      "display_name": "Synapse PySpark",
      "language": "Python",
      "name": "synapse_pyspark"
    },
    "language_info": {
      "name": "python"
    },
    "save_output": true,
    "synapse_widget": {
      "state": {},
      "version": "0.1"
    }
  },
  "nbformat": 4,
  "nbformat_minor": 2
}
