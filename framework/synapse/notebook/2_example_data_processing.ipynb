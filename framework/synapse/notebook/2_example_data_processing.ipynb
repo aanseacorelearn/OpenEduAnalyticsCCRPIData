{
  "cells": [
    {
      "attachments": {},
      "cell_type": "markdown",
      "metadata": {
        "nteract": {
          "transient": {
            "deleting": false
          }
        }
      },
      "source": [
        "# Example data processing\n",
        "This example demonstrates how a data engineer utilizes OEA to work with data from a new data source."
      ]
    },
    {
      "cell_type": "code",
      "execution_count": null,
      "metadata": {
        "jupyter": {
          "outputs_hidden": false,
          "source_hidden": false
        },
        "nteract": {
          "transient": {
            "deleting": false
          }
        }
      },
      "outputs": [],
      "source": [
        "%run OEA_py"
      ]
    },
    {
      "cell_type": "code",
      "execution_count": null,
      "metadata": {
        "jupyter": {
          "outputs_hidden": false,
          "source_hidden": false
        },
        "nteract": {
          "transient": {
            "deleting": false
          }
        }
      },
      "outputs": [],
      "source": [
        "# 1) set the workspace (this determines where in the data lake you'll be writing to and reading from).\n",
        "# You can work in 'dev', 'prod', or a sandbox with any name you choose.\n",
        "# For example, Sam the developer can create a 'sam' workspace and expect to find his datasets in the data lake under oea/sandboxes/sam\n",
        "oea.set_workspace('sam')"
      ]
    },
    {
      "cell_type": "code",
      "execution_count": null,
      "metadata": {
        "jupyter": {
          "outputs_hidden": false,
          "source_hidden": false
        },
        "nteract": {
          "transient": {
            "deleting": false
          }
        }
      },
      "outputs": [],
      "source": [
        "# 2) Now land a batch data file into stage1 of the data lake.\n",
        "# In this example we pull a traw.githubusercontent.com/aanseacorelearn/OpenEduAnalyticsCCRPIData/oxes/sam/stage1/Transactional/contoso/v0.1/students/delta_batch_data/rundate=<utc datetime>\n",
        "data = requests.get('https://raw.githubusercontent.com/aanseacorelearn/OpenEduAnalyticsCCRPIData/main/framework/test_data/contoso_sis/2021/contentMasteryBySubgroup/part1.csv').text\n",
        "oea.land(data, 'contoso/v0.1/contentMasteryBySubgroup', 'contentMasteryBySubgroup.csv', oea.DELTA_BATCH_DATA)"
      ]
    },
    {
      "cell_type": "code",
      "execution_count": null,
      "metadata": {
        "collapsed": false,
        "jupyter": {
          "outputs_hidden": false,
          "source_hidden": false
        },
        "nteract": {
          "transient": {
            "deleting": false
          }
        }
      },
      "outputs": [],
      "source": [
        "# 3) You can verify that the data is in stage1 by reading it into a dataframe. Note that a \"rundate\" column has been added - representing the datetime that the batch data was landed in the data lake.\n",
        "df = oea.load_csv(f'stage1/Transactional/contoso/v0.1/contentMasteryBySubgroup')\n",
        "display(df)"
      ]
    },
    {
      "cell_type": "code",
      "execution_count": null,
      "metadata": {
        "jupyter": {
          "outputs_hidden": false,
          "source_hidden": false
        },
        "nteract": {
          "transient": {
            "deleting": false
          }
        }
      },
      "outputs": [],
      "source": [
        "# 4) The next step is to ingest the batch data into stage2\n",
        "# Note that when you run this the first time, you'll see an info message like \"Number of new inbound rows processed: 2\".\n",
        "# If you run this a second time, the number of inbound rows processed will be 0 because the ingestion uses spark structured streaming to keep track of what data has already been processed.\n",
        "oea.ingest(f'contoso/v0.1/contentMasteryBySubgroup', 'id')"
      ]
    },
    {
      "cell_type": "code",
      "execution_count": null,
      "metadata": {
        "collapsed": false,
        "jupyter": {
          "outputs_hidden": false,
          "source_hidden": false
        },
        "nteract": {
          "transient": {
            "deleting": false
          }
        }
      },
      "outputs": [],
      "source": [
        "# 5) When data is ingested into stage2 of the data lake, OEA creates a lake db (which is a logical db that points to the data in the data lake).\n",
        "# In this example, since you are working in the 'sam' workspace, the lake db created is called 'ldb_sam_s2i_contoso_v0p1' (if you click on Data in the left nav, you'll see the db listed under 'Lake database' )\n",
        "df = spark.sql(\"select * from ldb_sam_s2i_contoso_v0p1.contentMasteryBySubgroup\")\n",
        "display(df)\n",
        "df.printSchema()"
      ]
    },
    {
      "cell_type": "code",
      "execution_count": null,
      "metadata": {
        "jupyter": {
          "outputs_hidden": false,
          "source_hidden": false
        },
        "nteract": {
          "transient": {
            "deleting": false
          }
        }
      },
      "outputs": [],
      "source": [
        "# 6) Now let's land some addiraw.githubusercontent.com/aanseacorelearn/OpenEduAnalyticsCCRPIData/
        "data = requests.get('https://raw.githubusercontent.com/aanseacorelearn/OpenEduAnalyticsCCRPIData/main/framework/test_data/contoso_sis/2022/contentMasteryBySubgroup/part1.csv').text\n",
        "oea.land(data, 'contoso/v0.1/contentMasteryBySubgroup', 'contentMasteryBySubgroup.csv', oea.DELTA_BATCH_DATA)"
      ]
    },
    {
      "cell_type": "code",
      "execution_count": null,
      "metadata": {
        "jupyter": {
          "outputs_hidden": false,
          "source_hidden": false
        },
        "nteract": {
          "transient": {
            "deleting": false
          }
        }
      },
      "outputs": [],
      "source": [
        "# 7) Ingest this latest batch of data.\n",
        "# Note that you don't have to specify what batch of data to process; OEA uses spark structured streaming to determine what files are new.\n",
        "oea.ingest(f'contoso/v0.1/contentMasteryBySubgroup', 'id')"
      ]
    },
    {
      "cell_type": "code",
      "execution_count": null,
      "metadata": {
        "collapsed": false,
        "jupyter": {
          "outputs_hidden": false,
          "source_hidden": false
        },
        "nteract": {
          "transient": {
            "deleting": false
          }
        }
      },
      "outputs": [],
      "source": [
        "# 8) Now verify that the batch data was ingested and correctly merged with the previous data\n",
        "\n",
        "# You can load the ingested data into a dataframe directly like this...\n",
        "df = oea.load('stage2/Ingested/contoso/v0.1/contentMasteryBySubgroup')\n",
        "display(df)\n",
        "\n",
        "# ...or you can use the automatically created \"Lake database\" like this:\n",
        "df = spark.sql(\"select * from ldb_sam_s2i_contoso_v0p1.contentMasteryBySubgroup\")\n",
        "display(df)\n",
        "# with either approach, you're querying the same data - it's the data stored at oea/sandboxes/sam/stage2/Ingested/contoso/v0.1/students in your data lake"
      ]
    },
    {
      "cell_type": "code",
      "execution_count": null,
      "metadata": {
        "collapsed": false,
        "jupyter": {
          "outputs_hidden": false,
          "source_hidden": false
        },
        "nteract": {
          "transient": {
            "deleting": false
          }
        }
      },
      "outputs": [],
      "source": [
        "# 9) After ingesting data, the next step is toraw.githubusercontent.com/aanseacorelearn/OpenEduAnalyticsCCRPIData/
        "metadata = oea.get_metadata_from_url('https://raw.githubusercontent.com/aanseacorelearn/OpenEduAnalyticsCCRPIData/main/framework/test_data/contoso_sis/metadata.csv')\n",
        "oea.refine('contoso/v0.1/contentMasteryBySubgroup', metadata['contentMasteryBySubgroup'], 'id')"
      ]
    },
    {
      "cell_type": "code",
      "execution_count": null,
      "metadata": {
        "collapsed": false,
        "jupyter": {
          "outputs_hidden": false,
          "source_hidden": false
        },
        "nteract": {
          "transient": {
            "deleting": false
          }
        }
      },
      "outputs": [],
      "source": [
        "# 10) Now you can query the refined data tables in the lake db\n",
        "df = spark.sql(\"select * from ldb_sam_s2r_contoso_v0p1.contentMasteryBySubgroup\")\n",
        "display(df)\n",
        "df.printSchema()\n",
        "df = spark.sql(\"select * from ldb_sam_s2r_contoso_v0p1.contentMasteryBySubgroup_lookup\")\n",
        "display(df)\n",
        "df.printSchema()\n",
        "# You can use the \"lookup\" table for joins (people with restricted access won't be able to perform this query because they won't have access to data in the \"sensitive\" folder in the data lake)\n",
        "df = spark.sql(\"select sl.*,s.* from ldb_sam_s2r_contoso_v0p1.contentMasteryBySubgroup_lookup sl, ldb_sam_s2r_contoso_v0p1.contentMasteryBySubgroup s where sl.id_pseudonym = s.id_pseudonym\")\n",
        "display(df)"
      ]
    },
    {
      "cell_type": "code",
      "execution_count": null,
      "metadata": {
        "jupyter": {
          "outputs_hidden": false,
          "source_hidden": false
        },
        "nteract": {
          "transient": {
            "deleting": false
          }
        }
      },
      "outputs": [],
      "source": [
        "# 11) Land, ingest, and refine additional data sets (day 1)\n",
        "# These data sets demonstrateraw.githubusercontent.com/aanseacorelearn/OpenEduAnalyticsCCRPIData/",
        "data = requests.get('https://raw.githubusercontent.com/aanseacorelearn/OpenEduAnalyticsCCRPIData/main/framework/test_data/contoso_sis/2021/readinessIndictorsBySubgroup/part1.csv').text\n",
        "oea.land(data, 'contoso/v0.1/raw.githubusercontent.com/aanseacorelearn/OpenEduAnalyticsCCRPIData/TCH_DATA)\n",
        "data = requests.get('https://raw.githubusercontent.com/aanseacorelearn/OpenEduAnalyticsCCRPIData/main/framework/test_data/contoso_sis/2021/progressTowardsEngLangProfibySubgr/part1.csv').text\n",
        "oea.land(data, 'contoso/v0.1/raw.githubusercontent.com/aanseacorelearn/OpenEduAnalyticsCCRPIData/HOT_BATCH_DATA)\n",
        "data = requests.get('https://raw.githubusercontent.com/aanseacorelearn/OpenEduAnalyticsCCRPIData/main/framework/test_data/contoso_sis/2021/demographics/part1.csv').text\n",
        "oea.land(data, 'contoso/v0.1/raw.githubusercontent.com/aanseacorelearn/OpenEduAnalyticsCCRPIData/
        "data = requests.get('https://raw.githubusercontent.com/aanseacorelearn/OpenEduAnalyticsCCRPIData/main/framework/test_data/contoso_sis/2021/graduationRatesbySubgroup/part1.csv').text\n",
        "oea.land(data, 'contoso/v0.1/raw.githubusercontent.com/aanseacorelearn/OpenEduAnalyticsCCRPIData/_DATA)\n",
        "data = requests.get('https://raw.githubusercontent.com/aanseacorelearn/OpenEduAnalyticsCCRPIData/main/framework/test_data/contoso_sis/2021/cohortGraduRateStDistSchoolSubgrp/part1.csv').text\n",
        "oea.land(data, 'contoso/v0.1/cohortGraduRateStDistSchoolSubgrp', 'part1.csv', oea.SNAPSHOT_BATCH_DATA)\n",
        "\n",
        "oea.ingest(f'contoso/v0.1/readinessIndictorsBySubgroup', 'id')\n",
        "oea.ingest(f'contoso/v0.1/progressTowardsEngLangProfibySubgr', 'id')\n",
        "oea.ingest(f'contoso/v0.1/demographics', 'id')\n",
        "oea.ingest(f'contoso/v0.1/graduationRatesbySubgroup', 'id')\n",
        "oea.ingest(f'contoso/v0.1/cohortGraduRateStDistSchoolSubgrp', 'id')\n",
        "\n",
        "oea.refine('contoso/v0.1/readinessIndictorsBySubgroup', metadata['readinessIndictorsBySubgroup'], 'id')\n",
        "oea.refine('contoso/v0.1/progressTowardsEngLangProfibySubgr', metadata['progressTowardsEngLangProfibySubgr'], 'id')\n",
        "oea.refine('contoso/v0.1/demographics', metadata['demographics'], 'id')\n",
        "oea.refine('contoso/v0.1/graduationRatesbySubgroup', metadata['graduationRatesbySubgroup'], 'id')\n",
        "oea.refine('contoso/v0.1/cohortGraduRateStDistSchoolSubgrp', metadata['cohortGraduRateStDistSchoolSubgrp'], 'id')"
      ]
    },
    {
      "cell_type": "code",
      "execution_count": null,
      "metadata": {
        "jupyter": {
          "outputs_hidden": false,
          "source_hidden": false
        },
        "nteract": {
          "transient": {
            "deleting": false
          }
        }
      },
      "outputs": [],
      "source": [
        "# 12) Land, ingest, and refine additional data sets (day 2)\n",
        "# These data sets demonstrateraw.githubusercontent.com/aanseacorelearn/OpenEduAnalyticsCCRPIData/",
        "data = requests.get('https://raw.githubusercontent.com/aanseacorelearn/OpenEduAnalyticsCCRPIData/main/framework/test_data/contoso_sis/2022/readinessIndictorsBySubgroup/part1.csv').text\n",
        "oea.land(data, 'contoso/v0.1/raw.githubusercontent.com/aanseacorelearn/OpenEduAnalyticsCCRPIData/TCH_DATA)\n",
        "data = requests.get('https://raw.githubusercontent.com/aanseacorelearn/OpenEduAnalyticsCCRPIData/main/framework/test_data/contoso_sis/2022/progressTowardsEngLangProfibySubgr/part1.csv').text\n",
        "oea.land(data, 'contoso/v0.1/raw.githubusercontent.com/aanseacorelearn/OpenEduAnalyticsCCRPIData/HOT_BATCH_DATA)\n",
        "data = requests.get('https://raw.githubusercontent.com/aanseacorelearn/OpenEduAnalyticsCCRPIData/main/framework/test_data/contoso_sis/2022/demographics/part1.csv').text\n",
        "oea.land(data, 'contoso/v0.1/raw.githubusercontent.com/aanseacorelearn/OpenEduAnalyticsCCRPIData/
        "data = requests.get('https://raw.githubusercontent.com/aanseacorelearn/OpenEduAnalyticsCCRPIData/main/framework/test_data/contoso_sis/2022/graduationRatesbySubgroup/part1.csv').text\n",
        "oea.land(data, 'contoso/v0.1/raw.githubusercontent.com/aanseacorelearn/OpenEduAnalyticsCCRPIData/_DATA)\n",
        "data = requests.get('https://raw.githubusercontent.com/aanseacorelearn/OpenEduAnalyticsCCRPIData/main/framework/test_data/contoso_sis/2022/cohortGraduRateStDistSchoolSubgrp/part1.csv').text\n",
        "oea.land(data, 'contoso/v0.1/cohortGraduRateStDistSchoolSubgrp', 'part1.csv', oea.SNAPSHOT_BATCH_DATA)\n",
        "\n",
        "oea.ingest(f'contoso/v0.1/readinessIndictorsBySubgroup', 'id')\n",
        "oea.ingest(f'contoso/v0.1/progressTowardsEngLangProfibySubgr', 'id')\n",
        "oea.ingest(f'contoso/v0.1/demographics', 'id')\n",
        "oea.ingest(f'contoso/v0.1/graduationRatesbySubgroup', 'id')\n",
        "oea.ingest(f'contoso/v0.1/cohortGraduRateStDistSchoolSubgrp', 'id')\n",
        "\n",
        "oea.refine('contoso/v0.1/readinessIndictorsBySubgroup', metadata['readinessIndictorsBySubgroup'], 'id')\n",
        "oea.refine('contoso/v0.1/progressTowardsEngLangProfibySubgr', metadata['progressTowardsEngLangProfibySubgr'], 'id')\n",
        "oea.refine('contoso/v0.1/demographics', metadata['demographics'], 'id')\n",
        "oea.refine('contoso/v0.1/graduationRatesbySubgroup', metadata['graduationRatesbySubgroup'], 'id')\n",
        "oea.refine('contoso/v0.1/cohortGraduRateStDistSchoolSubgrp', metadata['cohortGraduRateStDistSchoolSubgrp'], 'id')"
      ]
    },
    {
      "cell_type": "code",
      "execution_count": null,
      "metadata": {
        "jupyter": {
          "outputs_hidden": false,
          "source_hidden": false
        },
        "nteract": {
          "transient": {
            "deleting": false
          }
        }
      },
      "outputs": [],
      "source": [
        "# 12) Reset this example\n",
        "oea.delete_dataset('contoso/v0.1')\n",
        "oea.drop_lake_db('ldb_sam_s2i_contoso_v0p1')\n",
        "oea.drop_lake_db('ldb_sam_s2r_contoso_v0p1')"
      ]
    },
    {
      "attachments": {},
      "cell_type": "markdown",
      "metadata": {
        "nteract": {
          "transient": {
            "deleting": false
          }
        }
      },
      "source": [
        "# Appendix"
      ]
    },
    {
      "cell_type": "code",
      "execution_count": null,
      "metadata": {
        "jupyter": {
          "outputs_hidden": false,
          "source_hidden": false
        },
        "nteract": {
          "transient": {
            "deleting": false
          }
        }
      },
      "outputs": [],
      "source": [
        "# You can list the contents of a folder in the data lake like this:\n",
        "print(oea.ls('stage1/Transactional/contoso/v0.1/contentMasteryBySubgroup/delta_batch_data'))\n",
        "print(oea.ls('stage2/Ingested/contoso/v0.1/contentMasteryBySubgroup'))"
      ]
    },
    {
      "cell_type": "code",
      "execution_count": null,
      "metadata": {
        "collapsed": false,
        "jupyter": {
          "outputs_hidden": false,
          "source_hidden": false
        },
        "nteract": {
          "transient": {
            "deleting": false
          }
        }
      },
      "outputs": [],
      "source": [
        "dtbl = DeltaTable.forPath(spark, oea.to_url('stage2/Refined/contoso/v0.1/sensitive/contentMasteryBySubgroup_lookup'))\n",
        "display(dtbl.toDF())\n",
        "#dtbl.delete(\"rundate > '2022-11-04T14:39:51'\")"
      ]
    }
  ],
  "metadata": {
    "description": null,
    "kernel_info": {
      "name": "synapse_pyspark"
    },
    "kernelspec": {
      "display_name": "Synapse PySpark",
      "language": "Python",
      "name": "synapse_pyspark"
    },
    "language_info": {
      "name": "python"
    },
    "save_output": true,
    "synapse_widget": {
      "state": {},
      "version": "0.1"
    }
  },
  "nbformat": 4,
  "nbformat_minor": 2
}
